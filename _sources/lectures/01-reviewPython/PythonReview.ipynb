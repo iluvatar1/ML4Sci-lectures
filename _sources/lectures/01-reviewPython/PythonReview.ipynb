{
 "cells": [
  {
   "cell_type": "markdown",
   "metadata": {},
   "source": [
    "# Python Review:\n",
    "---\n",
    "This notebook provides a concise review of Python concepts essential for the course. \n",
    "\n",
    "You are supposed to know hot to program in python. "
   ]
  },
  {
   "cell_type": "markdown",
   "metadata": {},
   "source": [
    "## Using Environments with `uv`\n",
    "\n",
    "Virtual environments are crucial for managing project dependencies. This solves problems like\n",
    "- Using specific package versions for specific applications\n",
    "- Using package versions different from what the os system provides\n",
    "- Virtualize and test in reproducible environments\n",
    "- ...\n",
    "\n",
    "There are several tools to do this: pyenv, conde, uv , peotry, ... . Here, we will use `uv`.\n",
    "\n",
    "[`uv`](https://docs.astral.sh/uv/) is a modern, fast package and environment manager.\n",
    "\n",
    "**Comparison: `uv` vs. `conda`**\n",
    "\n",
    "| Feature | `uv` | `conda` |\n",
    "|---|---|---|\n",
    "| **Speed** | Extremely fast (written in Rust) | Slower | \n",
    "| **Environment Location** | Local to the project (`.venv` folder) | Centralized (in the `conda` installation) |\n",
    "| **Package Types** | Python packages (from PyPI and, recentrly, from [pyx](https://astral.sh/pyx) ) | Python and non-Python packages |\n",
    "| **Use Case** | Web development, scripting, API backends, Scientific computing | Scientific computing, complex dependencies |"
   ]
  },
  {
   "cell_type": "markdown",
   "metadata": {},
   "source": [
    "To create a virtual env, use \n",
    "```bash\n",
    "uv venv NOMBRE --python=PYTHONVERSION\n",
    "```\n",
    "Here, `NOMBRE` is the name and path of the virtual environment, and `PYTHONVERSION` the python version you want. \n",
    "Check all the available options with\n",
    "```bash\n",
    "uv venv --help\n",
    "```\n",
    "\n",
    "To activate the environment (in your terminal)\n",
    "```bash\n",
    "# On macOS/Linux\n",
    "# source .venv/bin/activate\n",
    "\n",
    "# On Windows\n",
    "# .venv\\Scripts\\activate\n",
    "```\n",
    "Once the venv is activated, the `PATH` is modified, and you will be using the commands inside the venv. To deactivate it, just execute `deactivate`.\n",
    "\n",
    "To install packages\n",
    "```bash\n",
    "uv pip install numpy pandas\n",
    "```\n",
    "\n",
    "To run a script without activating the environment\n",
    "```python \n",
    "# Create a file named 'my_script.py' with:\n",
    "# import numpy as np\n",
    "# print(np.zeros(5))\n",
    "```\n",
    "\n",
    "then run it as \n",
    "```bash\n",
    "uv run my_script.py\n",
    "```"
   ]
  },
  {
   "cell_type": "markdown",
   "metadata": {},
   "source": [
    "You can also add dependencies inside the script, using PEP 723"
   ]
  },
  {
   "cell_type": "code",
   "execution_count": null,
   "metadata": {},
   "outputs": [],
   "source": [
    "%%writefile example.py\n",
    "# /// script\n",
    "# requires-python = \">=3.12\"\n",
    "# dependencies = [\n",
    "#   \"requests<3\",\n",
    "#   \"beautifulsoup4\",\n",
    "# ]\n",
    "# ///\n",
    "\n",
    "import requests\n",
    "from bs4 import BeautifulSoup\n",
    "\n",
    "def fetch_and_parse(url):\n",
    "    response = requests.get(url)\n",
    "    soup = BeautifulSoup(response.text, 'html.parser')\n",
    "    return soup.title.string\n",
    "\n",
    "if __name__ == \"__main__\":\n",
    "    url = \"https://example.com\"\n",
    "    title = fetch_and_parse(url)\n",
    "    print(f\"The title of {url} is: {title}\")"
   ]
  },
  {
   "cell_type": "markdown",
   "metadata": {},
   "source": [
    "Now run as \n",
    "```bash\n",
    "uv run example.py\n",
    "```\n",
    "and it will download and install everything (even python) in a temporal venv and run the script."
   ]
  },
  {
   "cell_type": "markdown",
   "metadata": {},
   "source": [
    "### Exercise\n",
    "\n",
    "1. Create a new virtual environment using `uv`.\n",
    "2. Install the `scikit-learn` library.\n",
    "3. Create a `requirements.txt` file from the installed packages (`uv pip freeze > requirements.txt`)."
   ]
  },
  {
   "cell_type": "markdown",
   "metadata": {},
   "source": [
    "## Simple Variables\n",
    "\n",
    "Variables are used to store data."
   ]
  },
  {
   "cell_type": "code",
   "execution_count": null,
   "metadata": {},
   "outputs": [],
   "source": [
    "name = \"Alice\"\n",
    "age = 30\n",
    "is_scientist = True\n",
    "pi = 3.14"
   ]
  },
  {
   "cell_type": "markdown",
   "metadata": {},
   "source": [
    "### Exercise\n",
    "\n",
    "1. Fint the limits on integeres and floats in python. Does python follows IEEE754?\n",
    "2. Are there operator precendece rules in python?"
   ]
  },
  {
   "cell_type": "markdown",
   "metadata": {},
   "source": [
    "## Printing with f-strings\n",
    "\n",
    "f-strings provide a concise and convenient way to embed expressions inside string literals for formatting."
   ]
  },
  {
   "cell_type": "code",
   "execution_count": null,
   "metadata": {},
   "outputs": [],
   "source": [
    "name = \"Einstein\"\n",
    "year = 1905\n",
    "print(f\"{name}'s miracle year was {year}.\")\n",
    "\n",
    "pi = 3.14159\n",
    "print(f\"Pi rounded to two decimal places: {pi:.2f}\")"
   ]
  },
  {
   "cell_type": "markdown",
   "metadata": {},
   "source": [
    "#### Exercise\n",
    "\n",
    "1. Use an f-string to print the values of the variables you created in the 'Simple Variables' exercise."
   ]
  },
  {
   "cell_type": "markdown",
   "metadata": {},
   "source": [
    "## Functions with Type Declarations, Docstrings, and Decorators\n",
    "\n",
    "Functions are reusable blocks of code. Type hints and docstrings improve code clarity."
   ]
  },
  {
   "cell_type": "code",
   "execution_count": null,
   "metadata": {},
   "outputs": [],
   "source": [
    "def greet(name: str) -> str:\n",
    "    \"\"\"Greets the given name.\"\"\"\n",
    "    return f\"Hello, {name}!\"\n",
    "\n",
    "print(greet(\"World\"))"
   ]
  },
  {
   "cell_type": "markdown",
   "metadata": {},
   "source": [
    "The type hint allow linters to check your code for correcteness, something that you hould always do and maybe automate after each git commit. Some famous linters are\n",
    "- [pylint](https://github.com/pylint-dev/pylint)\n",
    "- [flake8](https://flake8.pycqa.org/en/latest/)\n",
    "- [ruff](https://docs.astral.sh/ruff/)\n",
    "- [mypy](https://mypy-lang.org/)"
   ]
  },
  {
   "cell_type": "markdown",
   "metadata": {},
   "source": [
    "Sometimes, adding a [`decorator`](https://realpython.com/primer-on-python-decorators/) to a function helps to get more functionality, info, or whatever you want, from a function. Basically they allow you to extend a function functionality:"
   ]
  },
  {
   "cell_type": "code",
   "execution_count": null,
   "metadata": {},
   "outputs": [],
   "source": [
    "def log_activity(func):\n",
    "    def wrapper(*args, **kwargs):\n",
    "        print(f\"Calling function '{func.__name__}'...\")\n",
    "        return func(*args, **kwargs)\n",
    "    return wrapper\n",
    "\n",
    "@log_activity\n",
    "def greet(name: str) -> str:\n",
    "    \"\"\"Greets the given name.\"\"\"\n",
    "    return f\"Hello, {name}!\"\n",
    "\n",
    "print(greet(\"World\"))"
   ]
  },
  {
   "cell_type": "markdown",
   "metadata": {},
   "source": [
    "What are `*args` and `**kwargs`?  In Python, `*args` and `**kwargs` are special syntax that let you pass a **variable number of arguments** to a function.\n",
    "\n",
    "- `*args`:  For **positional arguments** (non-keyword)\n",
    "    - `args` is a tuple of all extra **positional** arguments.\n",
    "    - Use `*` before the parameter name.\n",
    "\n",
    "- `**kwargs`: For **keyword arguments** (named arguments)\n",
    "    - `kwargs` is a dictionary of all extra **named** arguments.\n",
    "    - Use `**` before the parameter name.\n",
    "\n",
    "This is a simple example:"
   ]
  },
  {
   "cell_type": "code",
   "execution_count": null,
   "metadata": {},
   "outputs": [],
   "source": [
    "def my_function(*args, **kwargs):\n",
    "    print(\"Positional args (args):\", args)\n",
    "    print(\"Keyword args (kwargs):\", kwargs)\n",
    "\n",
    "# Call it with different numbers of arguments\n",
    "print(\"First call:\")\n",
    "my_function(1, 2, 3, name=\"Alice\", age=25, city=\"Boston\")\n",
    "print(\"\\nSecond call:\")\n",
    "my_function(4, age=52, city=\"Tabogo\")\n"
   ]
  },
  {
   "cell_type": "markdown",
   "metadata": {},
   "source": [
    "Imagine you're analyzing gene expression data and want to write a flexible function that:\n",
    "- Accepts any number of gene names (positional),\n",
    "- And allows optional parameters like `normalization`, `plot=True`, etc.\n",
    "\n",
    "```python\n",
    "def analyze_genes(*genes, normalization=\"zscore\", plot=True, threshold=0.5):\n",
    "    print(f\"Analyzing genes: {genes}\")\n",
    "    print(f\"Normalization method: {normalization}\")\n",
    "    if plot:\n",
    "        print(\"Plotting results...\")\n",
    "    if threshold > 0.1:\n",
    "        print(f\"Threshold set to {threshold}, may filter noisy data.\")\n",
    "    else:\n",
    "        print(\"Low threshold — keep more signals.\")\n",
    "\n",
    "# Use it in different ways:\n",
    "analyze_genes(\"TP53\", \"BRCA1\", \"MYC\", plot=False, threshold=0.3)\n",
    "```"
   ]
  },
  {
   "cell_type": "markdown",
   "metadata": {},
   "source": [
    "### Exercise\n",
    "\n",
    "1. Write a function that takes two numbers and returns their sum. Include type hints and a docstring.\n",
    "2. Create a decorator that times how long a function takes to execute."
   ]
  },
  {
   "cell_type": "markdown",
   "metadata": {},
   "source": [
    "## Lists, Sets, and Dictionaries"
   ]
  },
  {
   "cell_type": "code",
   "execution_count": null,
   "metadata": {},
   "outputs": [],
   "source": [
    "# Lists (ordered, mutable)\n",
    "elements = [\"H\", \"He\", \"Li\"]\n",
    "elements.append(\"Be\")\n",
    "print(f\"First element: {elements[0]}\")"
   ]
  },
  {
   "cell_type": "code",
   "execution_count": null,
   "metadata": {},
   "outputs": [],
   "source": [
    "# Sets (unordered, UNIQUE elements)\n",
    "primes = {2, 3, 5, 7, 7}\n",
    "print(f\"Primes: {primes}\")"
   ]
  },
  {
   "cell_type": "code",
   "execution_count": null,
   "metadata": {},
   "outputs": [],
   "source": [
    "# Dictionaries (key-value pairs)\n",
    "element_masses = {\"H\": 1.008, \"He\": 4.0026}\n",
    "print(f\"Mass of Helium: {element_masses['He']}\")"
   ]
  },
  {
   "cell_type": "markdown",
   "metadata": {},
   "source": [
    "\n",
    "\n",
    "A  comparison\n",
    "\n",
    "| Feature | **List** | **Set** | **Dictionary** |\n",
    "|--------|----------|--------|----------------|\n",
    "| **Purpose** | Ordered collection of items (e.g., time series, gene order) | Unordered collection of **unique** items (e.g., unique genes, species) | Key-value pairs (e.g., gene → expression level) |\n",
    "| **Syntax** | `[]` | `{}` | `{key: value}` |\n",
    "| **Order** | ✅ Ordered (index matters) | ❌ Unordered | ✅ Ordered (in Python 3.7+) |\n",
    "| **Duplicates Allowed?** | ✅ Yes | ❌ No (automatically removes duplicates) | ✅ Keys must be unique; values can repeat |\n",
    "| **Access by Index?** | ✅ Yes (`my_list[0]`) | ❌ No (no indexing) | ❌ No (use keys) |\n",
    "| **Access by Key?** | ❌ No | ❌ No | ✅ Yes (`my_dict['key']`) |\n",
    "| **Mutability** | ✅ Mutable (can change) | ✅ Mutable | ✅ Mutable |\n",
    "| **Use Case in Science** | Time series, ordered data (e.g., measurements over time) | Unique elements (e.g., all unique proteins in a sample) | Gene → expression level, sample → metadata |\n",
    "| **Example** | `genes = [\"TP53\", \"BRCA1\", \"MYC\"]` | `unique_genes = {\"TP53\", \"BRCA1\", \"MYC\"}` | `expression = {\"TP53\": 2.1, \"BRCA1\": 0.8}` |\n",
    "| **Fast Lookup?** | ❌ Slow (linear search) | ✅ Very fast (hash-based) | ✅ Very fast (by key) |\n",
    "| **Can contain different types?** | ✅ Yes (e.g., numbers, strings, even other lists) | ✅ Yes (but only immutable types like strings, numbers) | ✅ Yes (keys must be immutable) |\n",
    "\n",
    ":::{warning}\n",
    "Never use a `list` for data to be transversed fast, use `numpy` arrays or similar. Never use a `numpy` array when you need to insert data in the middle, frequently.\n",
    ":::"
   ]
  },
  {
   "cell_type": "markdown",
   "metadata": {},
   "source": [
    "### Exercises\n",
    "#### Tracking Particle Trajectories\n",
    "You're simulating the motion of 3 particles (e.g., electrons in a magnetic field) over time. You have:\n",
    "\n",
    "- Time points (list)\n",
    "- Positions at each time (list of tuples)\n",
    "- Unique particle IDs (set)\n",
    "- A dictionary mapping particle ID → trajectory (list of positions)\n",
    "- Goal: Find all particles that passed near a specific point (e.g., (0,0)).\n",
    "\n",
    "\n",
    "\n"
   ]
  },
  {
   "cell_type": "code",
   "execution_count": null,
   "metadata": {
    "deletable": false,
    "nbgrader": {
     "cell_type": "code",
     "checksum": "2b7eef2f941f1ec404b0922cf672624c",
     "grade": false,
     "grade_id": "cell-eace7758d9aeccce",
     "locked": false,
     "schema_version": 3,
     "solution": true,
     "task": false
    }
   },
   "outputs": [],
   "source": [
    "# Given:\n",
    "time_points = [0, 1, 2, 3, 4]  # seconds\n",
    "particles = {\"P1\", \"P2\", \"P3\"}  # unique IDs\n",
    "trajectories = {\n",
    "    \"P1\": [(1.0, 2.0), (0.5, 0.3), (0.1, -0.1), (0.0, 0.01), (-0.2, -0.3)],\n",
    "    \"P2\": [(2.0, 1.0), (1.8, 0.9), (1.5, 0.6), (1.0, 0.2), (0.5, -0.1)],\n",
    "    \"P3\": [(-1.0, -1.0), (-0.5, -0.5), (0.0, 0.0), (0.2, 0.1), (0.3, 0.4)]\n",
    "}\n",
    "\n",
    "# Task: Find which particles came within 0.2 units of (0,0)\n",
    "\n",
    "# Your code here:\n",
    "# YOUR CODE HERE\n",
    "\n",
    "\n"
   ]
  },
  {
   "cell_type": "markdown",
   "metadata": {},
   "source": [
    "#### Analyzing Chemical Reactions\n",
    "You're studying a reaction network. You have:\n",
    "\n",
    "A list of molecules involved\n",
    "A set of unique reaction types\n",
    "A dictionary: reaction_type → list of molecules\n",
    "Goal: Identify all molecules that appear in more than one reaction type.\n",
    "\n"
   ]
  },
  {
   "cell_type": "code",
   "execution_count": null,
   "metadata": {
    "deletable": false,
    "nbgrader": {
     "cell_type": "code",
     "checksum": "0d910719abd6dfada10e1f69acaf787e",
     "grade": false,
     "grade_id": "cell-fd1c11ae2c2c7ce3",
     "locked": false,
     "schema_version": 3,
     "solution": true,
     "task": false
    }
   },
   "outputs": [],
   "source": [
    "# Given:\n",
    "molecules = [\"H2\", \"O2\", \"H2O\", \"CO2\", \"CH4\", \"O2\", \"CO2\"]  # list (duplicates allowed)\n",
    "reaction_types = {\"combustion\", \"oxidation\", \"hydrolysis\"}  # set\n",
    "reactions = {\n",
    "    \"combustion\": [\"CH4\", \"O2\", \"CO2\", \"H2O\"],\n",
    "    \"oxidation\": [\"Fe\", \"O2\", \"Fe2O3\"],\n",
    "    \"hydrolysis\": [\"NaCl\", \"H2O\", \"NaOH\", \"HCl\"]\n",
    "}\n",
    "\n",
    "# Task: Find molecules that appear in ≥2 reaction types\n",
    "\n",
    "# Your code here:\n",
    "# YOUR CODE HERE\n",
    "\n",
    "\n"
   ]
  },
  {
   "cell_type": "markdown",
   "metadata": {},
   "source": [
    "## Objects and Basic OOP\n",
    "\n",
    "Object-Oriented Programming (OOP) helps in structuring programs."
   ]
  },
  {
   "cell_type": "code",
   "execution_count": null,
   "metadata": {},
   "outputs": [],
   "source": [
    "class Scientist:\n",
    "    def __init__(self, name: str, field: str):\n",
    "        self.name = name\n",
    "        self.field = field\n",
    "        self.another_field_ = 3.14\n",
    "        print(f\"Scientist {self.name} in {self.field} has been created.\")\n",
    "\n",
    "    def introduce(self):\n",
    "        return f\"I am {self.name}, and I work in {self.field}.\"\n",
    "\n",
    "    def __del__(self):\n",
    "        print(f\"Scientist {self.name} in {self.field} is being destroyed.\")\n",
    "\n",
    "\n",
    "# Create an instance\n",
    "marie = Scientist(\"Marie Curie\", \"Physics and Chemistry\")\n",
    "print(marie.introduce())\n",
    "\n",
    "# Delete the object explicitly\n",
    "del marie\n"
   ]
  },
  {
   "cell_type": "markdown",
   "metadata": {},
   "source": [
    "Notes on `__del__`:\n",
    "- The `__del__` method is called **just before** the object is deleted from memory.\n",
    "- It's useful for cleanup tasks like:\n",
    "  - Closing files\n",
    "  - Releasing external resources\n",
    "  - Logging destruction (as in this example)\n",
    "- **Don’t rely on `__del__` for critical cleanup** — use `with` blocks or context managers for reliable resource handling.\n",
    "- It may **not** be called immediately if references to the object still exist (due to garbage collection)."
   ]
  },
  {
   "cell_type": "markdown",
   "metadata": {},
   "source": [
    "#### Exercise\n",
    "\n",
    "1. Create a `Model` class with attributes like `name` and `accuracy`.\n",
    "2. Add a method to the `Model` class that prints the model's information."
   ]
  },
  {
   "cell_type": "markdown",
   "metadata": {},
   "source": [
    "## Using Libraries: NumPy and Scikit-learn\n",
    "\n",
    "These are fundamental libraries for scientific computing and machine learning."
   ]
  },
  {
   "cell_type": "code",
   "execution_count": null,
   "metadata": {},
   "outputs": [],
   "source": [
    "import numpy as np\n",
    "from sklearn.linear_model import LinearRegression\n",
    "\n",
    "# NumPy\n",
    "X = np.array([[1], [2], [3], [4]])\n",
    "y = np.array([2, 4, 5, 4])\n",
    "\n",
    "# Scikit-learn\n",
    "model = LinearRegression()\n",
    "model.fit(X, y)\n",
    "print(f\"Coefficient: {model.coef_}\")\n",
    "print(f\"Intercept: {model.intercept_}\")"
   ]
  },
  {
   "cell_type": "markdown",
   "metadata": {},
   "source": [
    "ALWAYS read the libraries docs: https://scikit-learn.org/stable/\n",
    "### Exercise\n",
    "\n",
    "1. Create a NumPy array with 10 random numbers. COmpute the mean. Write it into a file.\n",
    "2. Use scikit-learn to train a simple classification model on a sample dataset."
   ]
  },
  {
   "cell_type": "markdown",
   "metadata": {},
   "source": [
    "## Plotting\n",
    "\n",
    "Visualization is key in data science. Here are some popular libraries:"
   ]
  },
  {
   "cell_type": "code",
   "execution_count": null,
   "metadata": {},
   "outputs": [],
   "source": [
    "import matplotlib.pyplot as plt\n",
    "import seaborn as sns\n",
    "import plotly.express as px\n",
    "from bokeh.plotting import figure, show\n",
    "\n",
    "# Matplotlib\n",
    "plt.scatter(X, y)\n",
    "plt.title(\"Matplotlib Scatter Plot\")\n",
    "plt.show()\n",
    "\n",
    "# Seaborn\n",
    "sns.set_context('talk')\n",
    "sns.scatterplot(x=X.flatten(), y=y)\n",
    "plt.title(\"Seaborn Scatter Plot\")\n",
    "plt.show()\n",
    "\n",
    "# Plotly\n",
    "fig = px.scatter(x=X.flatten(), y=y, title=\"Plotly Scatter Plot\")\n",
    "fig.show()\n",
    "\n",
    "# Bokeh\n",
    "p = figure(title=\"Bokeh Scatter Plot\")\n",
    "p.circle(X.flatten(), y, size=10)\n",
    "show(p)"
   ]
  },
  {
   "cell_type": "markdown",
   "metadata": {},
   "source": [
    "#### Exercise\n",
    "\n",
    "1. Create a line plot of a sine wave using Matplotlib.\n",
    "2. Create a histogram of a random dataset using Seaborn."
   ]
  },
  {
   "cell_type": "markdown",
   "metadata": {},
   "source": [
    "### Best Practices\n",
    "\n",
    "- **Maintainable Scripts:** Use functions, add comments, and follow a consistent style (e.g., PEP 8). Use linters and testing. Use logs. \n",
    "- **Notebooks:** Use markdown cells for explanations, keep code cells short, and restart the kernel and run all cells before saving.\n",
    "- **Testing:** Use the `assert` statement for simple tests."
   ]
  },
  {
   "cell_type": "code",
   "execution_count": null,
   "metadata": {},
   "outputs": [],
   "source": [
    "def add(a, b):\n",
    "    return a + b\n",
    "\n",
    "assert add(2, 3) == 5\n",
    "assert add(-1, 1) == 0"
   ]
  },
  {
   "cell_type": "markdown",
   "metadata": {},
   "source": [
    "#### Exercise\n",
    "\n",
    "1. Write a simple test for the function you created in the 'Functions' exercise."
   ]
  }
 ],
 "metadata": {
  "kernelspec": {
   "display_name": "Python 3 (ipykernel)",
   "language": "python",
   "name": "python3"
  },
  "language_info": {
   "codemirror_mode": {
    "name": "ipython",
    "version": 3
   },
   "file_extension": ".py",
   "mimetype": "text/x-python",
   "name": "python",
   "nbconvert_exporter": "python",
   "pygments_lexer": "ipython3",
   "version": "3.12.11"
  }
 },
 "nbformat": 4,
 "nbformat_minor": 4
}
