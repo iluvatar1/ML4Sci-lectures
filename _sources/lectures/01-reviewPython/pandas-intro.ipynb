{
 "cells": [
  {
   "cell_type": "markdown",
   "metadata": {},
   "source": [
    "# Pandas Introduction\n",
    "\n",
    "Pandas is the de-facto python standar tool to perform data processing and analysis. The current version is v1.1.2 (see http://pandas.pydata.org/). \n",
    "\n",
    "You can install it by just running\n",
    "\n",
    "    conda install pandas\n",
    "    \n",
    "In the following we will use both the official pandas documentation and the book \"Numerical Python - A practical technique approach for Industry\", from Robert Johansson, as the basis for this introduction.\n",
    "\n",
    "We will also use the seaborn libray to generate plots that are pleasant and clear almost by default. Please install it.\n",
    "\n",
    "## Starting with pandas"
   ]
  },
  {
   "cell_type": "code",
   "execution_count": null,
   "metadata": {
    "ExecuteTime": {
     "end_time": "2021-10-02T19:06:12.570472Z",
     "start_time": "2021-10-02T19:06:11.401845Z"
    }
   },
   "outputs": [],
   "source": [
    "import pandas as pd\n",
    "import numpy as np\n",
    "import matplotlib.pyplot as plt"
   ]
  },
  {
   "cell_type": "markdown",
   "metadata": {},
   "source": [
    "## Series\n",
    "A series is a convenient container for one-dimensional arrays, which can use descriptive name for indexing and allows for quick access to some descriptive statistics."
   ]
  },
  {
   "cell_type": "code",
   "execution_count": null,
   "metadata": {
    "ExecuteTime": {
     "end_time": "2021-10-02T19:06:17.553269Z",
     "start_time": "2021-10-02T19:06:17.539855Z"
    }
   },
   "outputs": [],
   "source": [
    "import pandas as pd\n",
    "import numpy as np\n",
    "import matplotlib.pyplot as plt\n",
    "\n",
    "datalist = [909976, 8615246, 2872086, 2273305]\n",
    "print(f\"{datalist = }\")\n",
    "s = pd.Series(datalist)\n",
    "print(s)"
   ]
  },
  {
   "cell_type": "markdown",
   "metadata": {},
   "source": [
    "The indexes are, by default, of dtype int64. You can access them directly (or by values) as follows"
   ]
  },
  {
   "cell_type": "code",
   "execution_count": null,
   "metadata": {
    "ExecuteTime": {
     "end_time": "2021-10-02T19:06:21.032654Z",
     "start_time": "2021-10-02T19:06:21.024758Z"
    }
   },
   "outputs": [],
   "source": [
    "print(s.index)\n",
    "print(s.values)"
   ]
  },
  {
   "cell_type": "markdown",
   "metadata": {},
   "source": [
    "You can change the index to something more descriptive. In this case, those numbers represent the population on a given city, so it would be much more descriptive to use the city name as index:"
   ]
  },
  {
   "cell_type": "code",
   "execution_count": null,
   "metadata": {
    "ExecuteTime": {
     "end_time": "2021-10-02T19:06:25.632859Z",
     "start_time": "2021-10-02T19:06:25.612476Z"
    }
   },
   "outputs": [],
   "source": [
    "s.index = [\"Stockholm\", \"London\", \"Rome\", \"Paris\"]\n",
    "s.name = \"Population\"\n",
    "print(s)"
   ]
  },
  {
   "cell_type": "markdown",
   "metadata": {},
   "source": [
    "And you can access to the data directly"
   ]
  },
  {
   "cell_type": "code",
   "execution_count": null,
   "metadata": {
    "ExecuteTime": {
     "end_time": "2021-10-02T19:06:35.099345Z",
     "start_time": "2021-10-02T19:06:35.087194Z"
    }
   },
   "outputs": [],
   "source": [
    "print(s[\"London\"])\n",
    "print(s.Stockholm)"
   ]
  },
  {
   "cell_type": "markdown",
   "metadata": {},
   "source": [
    "You can use several indexes to generate a sub-series:"
   ]
  },
  {
   "cell_type": "code",
   "execution_count": null,
   "metadata": {
    "ExecuteTime": {
     "end_time": "2021-10-02T19:06:41.106484Z",
     "start_time": "2021-10-02T19:06:41.092853Z"
    }
   },
   "outputs": [],
   "source": [
    "t = s[[\"Paris\", \"Rome\"]]\n",
    "print(t)"
   ]
  },
  {
   "cell_type": "markdown",
   "metadata": {},
   "source": [
    "You can access basic statistics at a hand:"
   ]
  },
  {
   "cell_type": "code",
   "execution_count": null,
   "metadata": {
    "ExecuteTime": {
     "end_time": "2020-09-22T20:08:15.298444Z",
     "start_time": "2020-09-22T20:08:15.284894Z"
    }
   },
   "outputs": [],
   "source": [
    "s.mean(), s.std(), s.median(), s.quantile(0.5)"
   ]
  },
  {
   "cell_type": "code",
   "execution_count": null,
   "metadata": {
    "ExecuteTime": {
     "end_time": "2020-09-22T20:08:15.319256Z",
     "start_time": "2020-09-22T20:08:15.302576Z"
    }
   },
   "outputs": [],
   "source": [
    "s.describe()"
   ]
  },
  {
   "cell_type": "markdown",
   "metadata": {},
   "source": [
    "And you can also plot easily, "
   ]
  },
  {
   "cell_type": "code",
   "execution_count": null,
   "metadata": {
    "ExecuteTime": {
     "end_time": "2021-10-02T19:06:58.689518Z",
     "start_time": "2021-10-02T19:06:58.038804Z"
    }
   },
   "outputs": [],
   "source": [
    "fig, axes = plt.subplots(1, 3, figsize=(12, 3))\n",
    "s.plot(ax=axes[0], kind='line', title='line')\n",
    "s.plot(ax=axes[1], kind='bar', title='bar')\n",
    "s.plot(ax=axes[2], kind='pie', title='pie')\n",
    "fig.savefig(\"fig.pdf\", bbox_inches='tight')"
   ]
  },
  {
   "cell_type": "markdown",
   "metadata": {},
   "source": [
    "## Dataframe\n",
    "The dataframe is the most important object inside pandas. It allows to represent, access, process, etc multi-dimensional data. \n",
    "\n",
    "![Pandas dataframe](https://www.w3resource.com/w3r_images/pandas-data-structure.svg)\n",
    "Source: https://www.w3resource.com/python-exercises/pandas/index.php\n",
    "\n",
    "![Pandas dataframe example](https://miro.medium.com/max/1400/1*ZSehcrMtBWN7_qCWq_HiSg.png)\n",
    "Source: https://medium.com/dunder-data/selecting-subsets-of-data-in-pandas-6fcd0170be9c\n",
    "\n",
    "You can initialize a dataframe in several ways. For example, you can use a dictionary or a nested list. For example, you can do something like"
   ]
  },
  {
   "cell_type": "code",
   "execution_count": null,
   "metadata": {
    "ExecuteTime": {
     "end_time": "2021-10-02T19:07:30.077410Z",
     "start_time": "2021-10-02T19:07:30.053910Z"
    }
   },
   "outputs": [],
   "source": [
    "import pandas as pd\n",
    "import numpy as np\n",
    "import matplotlib.pyplot as plt\n",
    "\n",
    "df = pd.DataFrame([[909976, \"Sweden\"],\n",
    "                   [8615246, \"United Kingdom\"],\n",
    "                   [2872086, \"Italy\"],\n",
    "                   [2273305, \"France\"],\n",
    "                   [344444, np.nan]])\n",
    "df"
   ]
  },
  {
   "cell_type": "code",
   "execution_count": null,
   "metadata": {
    "ExecuteTime": {
     "end_time": "2021-10-02T19:07:37.596359Z",
     "start_time": "2021-10-02T19:07:37.522232Z"
    }
   },
   "outputs": [],
   "source": [
    "df.dropna()"
   ]
  },
  {
   "cell_type": "code",
   "execution_count": null,
   "metadata": {
    "ExecuteTime": {
     "end_time": "2021-10-02T19:07:54.643118Z",
     "start_time": "2021-10-02T19:07:54.624819Z"
    }
   },
   "outputs": [],
   "source": [
    "df.fillna(\"Unknown\")"
   ]
  },
  {
   "cell_type": "code",
   "execution_count": null,
   "metadata": {
    "ExecuteTime": {
     "end_time": "2021-10-02T19:07:59.811405Z",
     "start_time": "2021-10-02T19:07:59.795182Z"
    }
   },
   "outputs": [],
   "source": [
    "df = df.dropna()\n",
    "df"
   ]
  },
  {
   "cell_type": "code",
   "execution_count": null,
   "metadata": {
    "ExecuteTime": {
     "end_time": "2021-10-02T19:08:04.813953Z",
     "start_time": "2021-10-02T19:08:04.792660Z"
    }
   },
   "outputs": [],
   "source": [
    "df.index = [\"Stockholm\", \"London\", \"Rome\", \"Paris\"]\n",
    "df.columns = [\"Population\", \"State\"]\n",
    "df"
   ]
  },
  {
   "cell_type": "code",
   "execution_count": null,
   "metadata": {
    "ExecuteTime": {
     "end_time": "2021-10-02T19:08:28.378327Z",
     "start_time": "2021-10-02T19:08:28.369504Z"
    }
   },
   "outputs": [],
   "source": [
    "df.Population"
   ]
  },
  {
   "cell_type": "code",
   "execution_count": null,
   "metadata": {
    "ExecuteTime": {
     "end_time": "2020-09-22T20:08:16.870111Z",
     "start_time": "2020-09-22T20:08:16.844513Z"
    }
   },
   "outputs": [],
   "source": [
    "df.State"
   ]
  },
  {
   "cell_type": "markdown",
   "metadata": {},
   "source": [
    "You can access a specific row using the `loc` method, which produces a series object (previously you could use `ix` but it is now deprecated. Now use `.loc` or `iloc`)"
   ]
  },
  {
   "cell_type": "code",
   "execution_count": null,
   "metadata": {
    "ExecuteTime": {
     "end_time": "2020-09-22T20:08:16.895879Z",
     "start_time": "2020-09-22T20:08:16.874018Z"
    }
   },
   "outputs": [],
   "source": [
    "df.loc[[\"London\", \"Paris\"]] # This produces another data frame"
   ]
  },
  {
   "cell_type": "code",
   "execution_count": null,
   "metadata": {
    "ExecuteTime": {
     "end_time": "2021-10-02T19:10:07.792557Z",
     "start_time": "2021-10-02T19:10:07.771579Z"
    }
   },
   "outputs": [],
   "source": [
    "# Or access some rows and columns\n",
    "df.loc[[\"London\", \"Paris\"], \"Population\"] # This produces another data frame, and access a specific column"
   ]
  },
  {
   "cell_type": "code",
   "execution_count": null,
   "metadata": {
    "ExecuteTime": {
     "end_time": "2020-09-22T20:08:16.943707Z",
     "start_time": "2020-09-22T20:08:16.922535Z"
    }
   },
   "outputs": [],
   "source": [
    "df2 = df\n",
    "df2.index = df.State\n",
    "df2"
   ]
  },
  {
   "cell_type": "markdown",
   "metadata": {},
   "source": [
    "## Reading a large csv into a dataframe\n",
    "Download the population for many european cities from the url: https://en.wikipedia.org/wiki/List_of_cities_in_the_European_Union_by_population_within_city_limits or directly from https://raw.githubusercontent.com/jrjohansson/numerical-python-book-code/master/european_cities.csv\n",
    "        "
   ]
  },
  {
   "cell_type": "code",
   "execution_count": null,
   "metadata": {
    "ExecuteTime": {
     "end_time": "2021-10-11T21:07:34.671137Z",
     "start_time": "2021-10-11T21:07:33.040604Z"
    }
   },
   "outputs": [],
   "source": [
    "import pandas as pd\n",
    "import numpy as np\n",
    "import matplotlib.pyplot as plt\n",
    "\n",
    "df = pd.read_csv(\"https://raw.githubusercontent.com/jrjohansson/numerical-python-book-code/master/european_cities.csv\")\n",
    "df.info()"
   ]
  },
  {
   "cell_type": "code",
   "execution_count": null,
   "metadata": {
    "ExecuteTime": {
     "end_time": "2021-10-02T19:10:23.670544Z",
     "start_time": "2021-10-02T19:10:23.645161Z"
    }
   },
   "outputs": [],
   "source": [
    "df.head(7)"
   ]
  },
  {
   "cell_type": "code",
   "execution_count": null,
   "metadata": {
    "ExecuteTime": {
     "end_time": "2021-10-02T19:10:27.209396Z",
     "start_time": "2021-10-02T19:10:27.188581Z"
    }
   },
   "outputs": [],
   "source": [
    "df.tail()"
   ]
  },
  {
   "cell_type": "markdown",
   "metadata": {},
   "source": [
    "### Processing info\n",
    "Let's say that you want to have the population as integers. You will need to extract the population , to replace the ',' and to cast the values to integers. You could use the `apply` method to do that "
   ]
  },
  {
   "cell_type": "code",
   "execution_count": null,
   "metadata": {
    "ExecuteTime": {
     "end_time": "2021-10-11T21:07:38.868599Z",
     "start_time": "2021-10-11T21:07:38.842835Z"
    }
   },
   "outputs": [],
   "source": [
    "df['Numeric Population'] = df.Population.apply(lambda x: int(x.replace(',', ''))) # create a new column\n",
    "df.head()"
   ]
  },
  {
   "cell_type": "code",
   "execution_count": null,
   "metadata": {
    "ExecuteTime": {
     "end_time": "2020-09-22T20:08:17.539063Z",
     "start_time": "2020-09-22T20:08:17.529740Z"
    }
   },
   "outputs": [],
   "source": [
    "df.dtypes"
   ]
  },
  {
   "cell_type": "code",
   "execution_count": null,
   "metadata": {
    "ExecuteTime": {
     "end_time": "2021-10-02T19:10:39.571646Z",
     "start_time": "2021-10-02T19:10:39.562264Z"
    }
   },
   "outputs": [],
   "source": [
    "print(df[\"State\"].values[:3])"
   ]
  },
  {
   "cell_type": "code",
   "execution_count": null,
   "metadata": {
    "ExecuteTime": {
     "end_time": "2021-10-11T21:08:00.535833Z",
     "start_time": "2021-10-11T21:08:00.525840Z"
    }
   },
   "outputs": [],
   "source": [
    "df[\"State\"] = df[\"State\"].apply(lambda x: x.strip())\n",
    "df.head()\n",
    "print(df[\"State\"].values[:3])"
   ]
  },
  {
   "cell_type": "markdown",
   "metadata": {},
   "source": [
    "You can also change the index,"
   ]
  },
  {
   "cell_type": "code",
   "execution_count": null,
   "metadata": {
    "ExecuteTime": {
     "end_time": "2021-10-11T21:08:04.874840Z",
     "start_time": "2021-10-11T21:08:04.848027Z"
    }
   },
   "outputs": [],
   "source": [
    "df2 = df.set_index(\"City\")\n",
    "df2 = df2.sort_index()\n",
    "df2.head()"
   ]
  },
  {
   "cell_type": "code",
   "execution_count": null,
   "metadata": {
    "ExecuteTime": {
     "end_time": "2021-10-02T19:14:32.183017Z",
     "start_time": "2021-10-02T19:14:32.159464Z"
    }
   },
   "outputs": [],
   "source": [
    "df"
   ]
  },
  {
   "cell_type": "code",
   "execution_count": null,
   "metadata": {
    "ExecuteTime": {
     "end_time": "2021-10-11T21:09:02.034578Z",
     "start_time": "2021-10-11T21:09:01.998054Z"
    }
   },
   "outputs": [],
   "source": [
    "df3 = df.set_index([\"State\", \"City\"]).sort_index()\n",
    "df3.head(15)"
   ]
  },
  {
   "cell_type": "code",
   "execution_count": null,
   "metadata": {
    "ExecuteTime": {
     "end_time": "2021-10-11T21:09:31.894879Z",
     "start_time": "2021-10-11T21:09:31.873096Z"
    },
    "editable": true,
    "slideshow": {
     "slide_type": ""
    },
    "tags": []
   },
   "outputs": [],
   "source": [
    "df3.loc[\"Sweden\"]"
   ]
  },
  {
   "cell_type": "code",
   "execution_count": null,
   "metadata": {
    "ExecuteTime": {
     "end_time": "2021-10-11T21:10:27.809024Z",
     "start_time": "2021-10-11T21:10:27.786133Z"
    }
   },
   "outputs": [],
   "source": [
    "df3.loc[\"Sweden\"].sort_values(\"Numeric Population\") # Sort by another column"
   ]
  },
  {
   "cell_type": "markdown",
   "metadata": {},
   "source": [
    "You can count the categorical data:"
   ]
  },
  {
   "cell_type": "code",
   "execution_count": null,
   "metadata": {
    "ExecuteTime": {
     "end_time": "2020-09-22T20:08:17.956037Z",
     "start_time": "2020-09-22T20:08:17.928235Z"
    }
   },
   "outputs": [],
   "source": [
    "df"
   ]
  },
  {
   "cell_type": "code",
   "execution_count": null,
   "metadata": {
    "ExecuteTime": {
     "end_time": "2021-10-11T21:10:44.424011Z",
     "start_time": "2021-10-11T21:10:44.410523Z"
    }
   },
   "outputs": [],
   "source": [
    "city_counts = df.State.value_counts()\n",
    "city_counts.head(10)"
   ]
  },
  {
   "cell_type": "markdown",
   "metadata": {
    "editable": true,
    "slideshow": {
     "slide_type": ""
    },
    "tags": []
   },
   "source": [
    "**Exercise: ** How large the total population of all cities within a state? Hint: Use the sum function"
   ]
  },
  {
   "cell_type": "code",
   "execution_count": null,
   "metadata": {
    "ExecuteTime": {
     "end_time": "2021-10-11T21:12:19.476563Z",
     "start_time": "2021-10-11T21:12:19.449794Z"
    },
    "editable": true,
    "slideshow": {
     "slide_type": ""
    },
    "tags": []
   },
   "outputs": [],
   "source": [
    "# extract the data indexed by state abd city\n",
    "dfaux = df[[\"State\", \"City\", \"Numeric Population\"]].set_index([\"State\", \"City\"])\n",
    "dfaux = dfaux.groupby(level=\"State\").sum()\n",
    "dfaux.head(10)"
   ]
  },
  {
   "cell_type": "code",
   "execution_count": null,
   "metadata": {
    "ExecuteTime": {
     "end_time": "2021-10-11T21:14:36.104891Z",
     "start_time": "2021-10-11T21:14:36.084833Z"
    }
   },
   "outputs": [],
   "source": [
    "# Or you can use the groupby method\n",
    "dfaux = df.groupby(\"State\").sum().sort_values(\"Numeric Population\", ascending=False)\n",
    "dfaux.head(5)"
   ]
  },
  {
   "cell_type": "code",
   "execution_count": null,
   "metadata": {
    "ExecuteTime": {
     "end_time": "2021-10-11T21:15:05.065458Z",
     "start_time": "2021-10-11T21:15:05.000624Z"
    }
   },
   "outputs": [],
   "source": [
    "dfaux.head(5).drop(\"Rank\", axis=1)"
   ]
  },
  {
   "cell_type": "markdown",
   "metadata": {},
   "source": [
    "We can also plot"
   ]
  },
  {
   "cell_type": "code",
   "execution_count": null,
   "metadata": {
    "ExecuteTime": {
     "end_time": "2021-10-11T21:15:12.719301Z",
     "start_time": "2021-10-11T21:15:12.691185Z"
    }
   },
   "outputs": [],
   "source": [
    "dfaux"
   ]
  },
  {
   "cell_type": "code",
   "execution_count": null,
   "metadata": {
    "ExecuteTime": {
     "end_time": "2021-10-11T21:15:27.156497Z",
     "start_time": "2021-10-11T21:15:25.223763Z"
    }
   },
   "outputs": [],
   "source": [
    "fig, (ax1, ax2) = plt.subplots(1, 2, figsize=(12, 4))\n",
    "city_counts.plot(kind='barh', ax=ax1)\n",
    "ax1.set_xlabel(\"# cities in top 105\")\n",
    "dfaux[\"Numeric Population\"].plot(kind='barh', ax=ax2)\n",
    "ax2.set_xlabel(\"Total pop. in top 105 cities\")"
   ]
  },
  {
   "cell_type": "code",
   "execution_count": null,
   "metadata": {
    "ExecuteTime": {
     "end_time": "2021-10-11T21:16:35.729994Z",
     "start_time": "2021-10-11T21:16:35.714335Z"
    }
   },
   "outputs": [],
   "source": [
    "#print(df.State == \"France\")\n",
    "print(df[df.State == \"France\"])"
   ]
  },
  {
   "cell_type": "code",
   "execution_count": null,
   "metadata": {
    "ExecuteTime": {
     "end_time": "2021-10-11T21:17:24.222102Z",
     "start_time": "2021-10-11T21:17:24.153493Z"
    }
   },
   "outputs": [],
   "source": [
    "# Pivot tables\n",
    "# https://pandas.pydata.org/pandas-docs/stable/reference/api/pandas.pivot_table.html\n",
    "df.pivot_table(values=\"Numeric Population\", index=[\"State\"], aggfunc=np.sum)"
   ]
  },
  {
   "cell_type": "markdown",
   "metadata": {},
   "source": [
    "### Date series and data frames"
   ]
  },
  {
   "cell_type": "code",
   "execution_count": null,
   "metadata": {
    "ExecuteTime": {
     "end_time": "2020-09-21T20:32:35.252384Z",
     "start_time": "2020-09-21T20:32:35.224829Z"
    }
   },
   "outputs": [],
   "source": [
    "dates = pd.date_range('20130101', periods=6)\n",
    "print(dates)\n",
    "df = pd.DataFrame(np.random.randn(6,4), index=dates, columns=list('ABCD'))\n",
    "df"
   ]
  },
  {
   "cell_type": "code",
   "execution_count": null,
   "metadata": {
    "ExecuteTime": {
     "end_time": "2020-09-21T20:32:03.527247Z",
     "start_time": "2020-09-21T20:32:03.497902Z"
    }
   },
   "outputs": [],
   "source": [
    "df.sort_index(axis=1, ascending=False)"
   ]
  },
  {
   "cell_type": "code",
   "execution_count": null,
   "metadata": {
    "ExecuteTime": {
     "end_time": "2020-09-21T20:35:36.744853Z",
     "start_time": "2020-09-21T20:35:36.724294Z"
    }
   },
   "outputs": [],
   "source": [
    "df "
   ]
  },
  {
   "cell_type": "code",
   "execution_count": null,
   "metadata": {
    "ExecuteTime": {
     "end_time": "2020-09-21T20:36:17.844135Z",
     "start_time": "2020-09-21T20:36:17.829442Z"
    }
   },
   "outputs": [],
   "source": [
    "\n",
    "df[\"A\"] > 0"
   ]
  },
  {
   "cell_type": "code",
   "execution_count": null,
   "metadata": {
    "ExecuteTime": {
     "end_time": "2020-09-21T20:35:56.807167Z",
     "start_time": "2020-09-21T20:35:56.786391Z"
    }
   },
   "outputs": [],
   "source": [
    "df[df.A > 0]"
   ]
  },
  {
   "cell_type": "code",
   "execution_count": null,
   "metadata": {
    "ExecuteTime": {
     "end_time": "2020-09-21T20:36:55.426543Z",
     "start_time": "2020-09-21T20:36:55.325184Z"
    }
   },
   "outputs": [],
   "source": [
    "df[df > 0]"
   ]
  },
  {
   "cell_type": "code",
   "execution_count": null,
   "metadata": {
    "ExecuteTime": {
     "end_time": "2020-09-21T20:37:10.840721Z",
     "start_time": "2020-09-21T20:37:10.816412Z"
    }
   },
   "outputs": [],
   "source": [
    "df[df > 0].fillna(value=5)"
   ]
  },
  {
   "cell_type": "code",
   "execution_count": null,
   "metadata": {
    "ExecuteTime": {
     "end_time": "2020-09-21T20:44:50.478497Z",
     "start_time": "2020-09-21T20:44:49.969052Z"
    }
   },
   "outputs": [],
   "source": [
    "df.to_csv(\"test.csv\")\n",
    "df.to_excel(\"test.xlsx\")"
   ]
  },
  {
   "cell_type": "markdown",
   "metadata": {},
   "source": [
    "## Exercises\n",
    "\n",
    "From : https://www.w3resource.com/python-exercises/pandas/index.php , https://github.com/ajcr/100-pandas-puzzles/blob/master/100-pandas-puzzles.ipynb , https://github.com/guipsamora/pandas_exercises\n",
    "\n",
    "### Processing a simple dataframe\n",
    "1. Write a Python program to create and display a DataFrame from a specified dictionary data which has the index labels.\n",
    "\n",
    "    - `exam_data = {'name': ['Anastasia', 'Dima', 'Katherine', 'James', 'Emily', 'Michael', 'Matthew',   'Laura', 'Kevin', 'Jonas']`,\n",
    "    `'score': [12.5, 9, 16.5, np.nan, 9, 20, 14.5, np.nan, 8, 19],`\n",
    "    `'attempts': [1, 3, 2, 3, 2, 3, 1, 1, 2, 1],`\n",
    "    `'qualify': ['yes', 'no', 'yes', 'no', 'no', 'yes', 'yes', 'no', 'no', 'yes']}`\n",
    "    - `labels = ['a', 'b', 'c', 'd', 'e', 'f', 'g', 'h', 'i', 'j']`\n",
    "    \n",
    "2. Print the `name` and `score` of the previous dataframe.\n",
    "\n",
    "3. Plot the socoreper student using matplotlib and seaborn.\n",
    "\n",
    "4. Show the students with tries larger or equal than 2.\n",
    "\n",
    "5. Compute the average examination attemps.\n",
    "\n",
    "6. Save the previous dataframe onto a csv and verify.\n",
    "\n",
    "7. Save the previous dictionary onto an excel file and verify.\n",
    "\n",
    "### Solving some exercises\n",
    "\n",
    "1. Solve the even exercises on https://github.com/ajcr/100-pandas-puzzles/blob/master/100-pandas-puzzles.ipynb \n",
    "\n",
    "### Processing covid19 data\n",
    "Source: https://github.com/CSSEGISandData/COVID-19"
   ]
  },
  {
   "cell_type": "markdown",
   "metadata": {
    "ExecuteTime": {
     "end_time": "2020-08-27T13:57:28.991214Z",
     "start_time": "2020-08-27T13:57:28.986286Z"
    }
   },
   "source": [
    "## Practice\n",
    "1) The Colombian government offers public dataset regarding its functioning, at the webpage https://www.datos.gov.co/. As an example, we will get the budget info from Cali, and extract the departments with budget execution smaller than 90%. REF: https://www.datos.gov.co/dataset/Ejecuci-n-Presupuestal-de-Gastos-por-Organismos-a-/qiu9-tp3c\n",
    "  - Load the data from \"http://datos.cali.gov.co/dataset/f7c0d30f-233a-4dbb-bf9e-66d5bf358410/resource/d37f213d-5e5c-4066-bd8f-fc84ca2da0de/download/ejecucion-presupuestal-de-gastos-por-organismos-a-diciembre-31-de-2019.xlsx\"\n",
    "  - (Data cleaning) As you can see, there are several columns that have spaces on their titles. Remove those spaces for easier indexing. Use the method `df.rename` on one column, then devise a way to do it for all columns.\n",
    "  - Select the departments with budget execution smaller than 90% and print them.\n",
    "  - For those departments, compute the ratio between the initial budget and any budget addition.\n",
    "  - Print this info into an excel file\n",
    "\n",
    "2) Load the gapminder data from \"http://bit.ly/2cLzoxH\".\n",
    "  - Plot the gdppercapita as function of the life expectancy. Is there any correlation?\n"
   ]
  },
  {
   "cell_type": "code",
   "execution_count": null,
   "metadata": {
    "ExecuteTime": {
     "end_time": "2020-09-21T20:54:36.818458Z",
     "start_time": "2020-09-21T20:54:36.771473Z"
    }
   },
   "outputs": [],
   "source": [
    "import pandas as pd\n",
    "exam_data = pd.DataFrame({'name': ['Anastasia', 'Dima', 'Katherine', 'James', 'Emily', 'Michael', 'Matthew',   \n",
    "                                   'Laura', 'Kevin', 'Jonas'], \n",
    "                          'score': [12.5, 9, 16.5, np.nan, 9, 20, 14.5, np.nan, 8, 19], \n",
    "                          'attempts': [1, 3, 2, 3, 2, 3, 1, 1, 2, 1], \n",
    "                          'qualify': ['yes', 'no', 'yes', 'no', 'no', 'yes', 'yes', 'no', 'no', 'yes']})\n",
    "exam_data"
   ]
  },
  {
   "cell_type": "code",
   "execution_count": null,
   "metadata": {
    "ExecuteTime": {
     "end_time": "2020-09-21T20:56:35.916463Z",
     "start_time": "2020-09-21T20:56:35.885768Z"
    }
   },
   "outputs": [],
   "source": [
    "labels = ['a', 'b', 'c', 'd', 'e', 'f', 'g', 'h', 'i', 'j']\n",
    "exam_data.index = labels\n",
    "exam_data"
   ]
  },
  {
   "cell_type": "code",
   "execution_count": null,
   "metadata": {
    "ExecuteTime": {
     "end_time": "2020-09-21T20:57:32.042455Z",
     "start_time": "2020-09-21T20:57:32.025010Z"
    }
   },
   "outputs": [],
   "source": [
    "exam_data[[\"name\", \"score\"]]"
   ]
  },
  {
   "cell_type": "code",
   "execution_count": null,
   "metadata": {
    "ExecuteTime": {
     "end_time": "2020-09-21T20:58:16.641292Z",
     "start_time": "2020-09-21T20:58:16.615640Z"
    }
   },
   "outputs": [],
   "source": [
    "exam_data[exam_data.attempts >= 2]"
   ]
  },
  {
   "cell_type": "code",
   "execution_count": null,
   "metadata": {
    "editable": true,
    "slideshow": {
     "slide_type": ""
    },
    "tags": []
   },
   "outputs": [],
   "source": []
  }
 ],
 "metadata": {
  "kernelspec": {
   "display_name": "Python 3 (ipykernel)",
   "language": "python",
   "name": "python3"
  },
  "language_info": {
   "codemirror_mode": {
    "name": "ipython",
    "version": 3
   },
   "file_extension": ".py",
   "mimetype": "text/x-python",
   "name": "python",
   "nbconvert_exporter": "python",
   "pygments_lexer": "ipython3",
   "version": "3.11.12"
  },
  "toc": {
   "base_numbering": 1,
   "nav_menu": {},
   "number_sections": true,
   "sideBar": true,
   "skip_h1_title": false,
   "title_cell": "Table of Contents",
   "title_sidebar": "Contents",
   "toc_cell": false,
   "toc_position": {},
   "toc_section_display": true,
   "toc_window_display": true
  },
  "varInspector": {
   "cols": {
    "lenName": 16,
    "lenType": 16,
    "lenVar": 40
   },
   "kernels_config": {
    "python": {
     "delete_cmd_postfix": "",
     "delete_cmd_prefix": "del ",
     "library": "var_list.py",
     "varRefreshCmd": "print(var_dic_list())"
    },
    "r": {
     "delete_cmd_postfix": ") ",
     "delete_cmd_prefix": "rm(",
     "library": "var_list.r",
     "varRefreshCmd": "cat(var_dic_list()) "
    }
   },
   "types_to_exclude": [
    "module",
    "function",
    "builtin_function_or_method",
    "instance",
    "_Feature"
   ],
   "window_display": false
  }
 },
 "nbformat": 4,
 "nbformat_minor": 4
}
