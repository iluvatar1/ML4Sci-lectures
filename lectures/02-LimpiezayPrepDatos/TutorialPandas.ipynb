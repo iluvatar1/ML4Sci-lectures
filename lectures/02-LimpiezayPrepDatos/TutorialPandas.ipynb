{
 "cells": [
  {
   "cell_type": "markdown",
   "metadata": {
    "editable": true,
    "id": "qqI0xLLLsPhz",
    "slideshow": {
     "slide_type": ""
    },
    "tags": []
   },
   "source": [
    "# Pandas for data cleaning and analysis\n",
    "Lo primero es importar las librerías pandas y numpy\n"
   ]
  },
  {
   "cell_type": "code",
   "execution_count": null,
   "metadata": {
    "editable": true,
    "id": "xat76UJkrync",
    "slideshow": {
     "slide_type": ""
    },
    "tags": []
   },
   "outputs": [],
   "source": [
    "import pandas as pd\n",
    "import numpy as np"
   ]
  },
  {
   "cell_type": "markdown",
   "metadata": {
    "id": "mU3QuvNSvPL5"
   },
   "source": [
    "Luego hay que leer los datos del archivo BIP_pozos.csv. Para eso usamos pd.read_csv(\"ubicacion_del_archivo/nombre_del_archivo.csv\")\n",
    "      (para otros formatos ver https://pandas.pydata.org/pandas-docs/stable/user_guide/io.html):"
   ]
  },
  {
   "cell_type": "code",
   "execution_count": null,
   "metadata": {
    "id": "uThCAV47r4Zc"
   },
   "outputs": [],
   "source": [
    "df=pd.read_csv(\"BIP_pozos.csv\")"
   ]
  },
  {
   "cell_type": "markdown",
   "metadata": {
    "id": "vjpKCx0zyV6t"
   },
   "source": [
    "df es ahora un DataFrame de Pandas con lo datos del archivo \"BIP_pozos.csv\""
   ]
  },
  {
   "cell_type": "markdown",
   "metadata": {
    "id": "3AIaR6-DyoAP"
   },
   "source": [
    "Para ver que columnas hay, cuantas filas hay y qué tipos de datos contienen"
   ]
  },
  {
   "cell_type": "code",
   "execution_count": null,
   "metadata": {
    "colab": {
     "base_uri": "https://localhost:8080/"
    },
    "id": "BaGrjskOw2Gg",
    "outputId": "37529e5d-8ee9-4898-c016-7fe3c78a6459"
   },
   "outputs": [],
   "source": [
    "\n",
    "df.info()"
   ]
  },
  {
   "cell_type": "markdown",
   "metadata": {
    "id": "r-99SCzYzpWn"
   },
   "source": [
    "Algo que uno a veces necesita saber es cuántos valores únicos o diferentes hay para una columna"
   ]
  },
  {
   "cell_type": "code",
   "execution_count": null,
   "metadata": {
    "colab": {
     "base_uri": "https://localhost:8080/"
    },
    "id": "-WUkPfetyPR0",
    "outputId": "77ac87d9-fd5a-4d84-ea61-73247acc56eb"
   },
   "outputs": [],
   "source": [
    "df.nunique()"
   ]
  },
  {
   "cell_type": "markdown",
   "metadata": {
    "id": "ekFPCOD_2Yjx"
   },
   "source": [
    "Para ver las llaves (keys) de las columnas"
   ]
  },
  {
   "cell_type": "code",
   "execution_count": null,
   "metadata": {
    "colab": {
     "base_uri": "https://localhost:8080/"
    },
    "id": "DmNY2bBy2YFZ",
    "outputId": "f84b3d6b-af30-4ff4-a69c-322d9843de80"
   },
   "outputs": [],
   "source": [
    "df.keys()"
   ]
  },
  {
   "cell_type": "markdown",
   "metadata": {
    "id": "-YfkvqGK2XxD"
   },
   "source": []
  },
  {
   "cell_type": "markdown",
   "metadata": {
    "id": "GSbKKTde129l"
   },
   "source": [
    "Uno puede seleccionar columnas así"
   ]
  },
  {
   "cell_type": "code",
   "execution_count": null,
   "metadata": {
    "colab": {
     "base_uri": "https://localhost:8080/"
    },
    "id": "YcUQyzRxz3Lb",
    "outputId": "ba99495e-289c-415f-aef9-e8c749dc186f"
   },
   "outputs": [],
   "source": [
    "df[\"DEPARTAMEN\"]"
   ]
  },
  {
   "cell_type": "markdown",
   "metadata": {
    "id": "qEOvPZUZ2q6_"
   },
   "source": [
    "y puede seleccionar varias columnas así"
   ]
  },
  {
   "cell_type": "code",
   "execution_count": null,
   "metadata": {
    "colab": {
     "base_uri": "https://localhost:8080/",
     "height": 424
    },
    "id": "B_poH4aO2LK6",
    "outputId": "8b4af98c-23f4-4c13-e524-2ea5362f8f82"
   },
   "outputs": [],
   "source": [
    "df[[\"DEPARTAMEN\", \"WELL_DRILL\"]]"
   ]
  },
  {
   "cell_type": "markdown",
   "metadata": {
    "id": "pbDF-1Ty3iS_"
   },
   "source": [
    "Para excluir una columna de un DataFrame"
   ]
  },
  {
   "cell_type": "markdown",
   "metadata": {
    "id": "eXJ6R51Y4hPu"
   },
   "source": [
    "antes"
   ]
  },
  {
   "cell_type": "code",
   "execution_count": null,
   "metadata": {
    "colab": {
     "base_uri": "https://localhost:8080/"
    },
    "id": "Vtp0Jq3g4jaX",
    "outputId": "1c01a4fe-087e-4a41-c7fc-26c77a0e84ce"
   },
   "outputs": [],
   "source": [
    "df.keys()"
   ]
  },
  {
   "cell_type": "markdown",
   "metadata": {
    "id": "Dtyz8_3-4mEV"
   },
   "source": [
    "eliminar columna"
   ]
  },
  {
   "cell_type": "code",
   "execution_count": null,
   "metadata": {
    "id": "iwI3tkbO29HK"
   },
   "outputs": [],
   "source": [
    "df=df.drop([\"WELL_ALIAS\"], axis=1) #o df.drop([\"WELL_ALIAS\"], axis=1, inplace=True)"
   ]
  },
  {
   "cell_type": "code",
   "execution_count": null,
   "metadata": {
    "colab": {
     "base_uri": "https://localhost:8080/"
    },
    "id": "_f5j0xqR4Ltp",
    "outputId": "dc517596-3d41-4509-de88-f18b66b6ca78"
   },
   "outputs": [],
   "source": [
    "df.keys()"
   ]
  },
  {
   "cell_type": "markdown",
   "metadata": {
    "id": "ozd-wSRFgZzO"
   },
   "source": [
    "para acceder a filas específicas"
   ]
  },
  {
   "cell_type": "code",
   "execution_count": null,
   "metadata": {
    "colab": {
     "base_uri": "https://localhost:8080/",
     "height": 818
    },
    "id": "inoScQL_4Xg0",
    "outputId": "6abcc6dc-db8d-44f9-b15c-1177af69d53e"
   },
   "outputs": [],
   "source": [
    "df.iloc[100:111]"
   ]
  },
  {
   "cell_type": "markdown",
   "metadata": {
    "id": "gXMW_FzSgxYo"
   },
   "source": [
    "Para acceder/seleccionar de manera condicional"
   ]
  },
  {
   "cell_type": "code",
   "execution_count": null,
   "metadata": {
    "colab": {
     "base_uri": "https://localhost:8080/",
     "height": 974
    },
    "id": "k0rAoau-gd9k",
    "outputId": "086e329d-65eb-4fea-8942-dc8531a3a9af"
   },
   "outputs": [],
   "source": [
    "df[df['DEPARTAMEN'] == 'META']"
   ]
  },
  {
   "cell_type": "markdown",
   "metadata": {
    "id": "ImwL5vf3hJxj"
   },
   "source": [
    "Y todo lo anterior se puede combinar\n",
    "\n",
    "\n"
   ]
  },
  {
   "cell_type": "code",
   "execution_count": null,
   "metadata": {
    "colab": {
     "base_uri": "https://localhost:8080/",
     "height": 394
    },
    "id": "TP-SZw7jhEyU",
    "outputId": "eaa1d1a8-a17b-4d65-c32e-5444c6611be0"
   },
   "outputs": [],
   "source": [
    "df[[\"DEPARTAMEN\", \"WELL_DRILL\"]][df['DEPARTAMEN'] == 'META'].iloc[100:111]"
   ]
  },
  {
   "cell_type": "code",
   "execution_count": null,
   "metadata": {
    "colab": {
     "base_uri": "https://localhost:8080/",
     "height": 300
    },
    "id": "mb77eC87h6m8",
    "outputId": "d6394cbc-2629-4048-ee1c-e1885b30ebc9"
   },
   "outputs": [],
   "source": [
    "df.describe()"
   ]
  },
  {
   "cell_type": "code",
   "execution_count": null,
   "metadata": {
    "colab": {
     "base_uri": "https://localhost:8080/",
     "height": 35
    },
    "id": "JUbIoNfeiD7z",
    "outputId": "e499417a-ed77-414a-e6d2-3d65ee11e705"
   },
   "outputs": [],
   "source": [
    "\"\"\"\n",
    "df.max()\n",
    "df.min()\n",
    "df.mean()\n",
    "df.median()\n",
    "df.count()\n",
    "df.std()\n",
    "\"\"\""
   ]
  },
  {
   "cell_type": "code",
   "execution_count": null,
   "metadata": {
    "colab": {
     "base_uri": "https://localhost:8080/"
    },
    "id": "Sux7fj7qiSes",
    "outputId": "8557d5f4-4b2b-4cf1-c75a-56881e5a73d3"
   },
   "outputs": [],
   "source": [
    "df[\"DEPARTAMEN\"].value_counts()"
   ]
  },
  {
   "cell_type": "markdown",
   "metadata": {
    "id": "zlYX90Y9j0HY"
   },
   "source": [
    "A lo que vinimos: limpieza de datos"
   ]
  },
  {
   "cell_type": "markdown",
   "metadata": {
    "id": "OhLRTaQNj5A1"
   },
   "source": [
    "Problemas usuales: valores nulos, datos vacios, datos incorrectos."
   ]
  },
  {
   "cell_type": "code",
   "execution_count": null,
   "metadata": {
    "colab": {
     "base_uri": "https://localhost:8080/",
     "height": 488
    },
    "id": "Zgas7GfviUls",
    "outputId": "31412ed5-a08c-4d1f-8fdc-b4d672660317"
   },
   "outputs": [],
   "source": [
    "df.isnull()"
   ]
  },
  {
   "cell_type": "code",
   "execution_count": null,
   "metadata": {
    "colab": {
     "base_uri": "https://localhost:8080/"
    },
    "id": "EjsLHfWpjxTe",
    "outputId": "b5a2d1e1-e438-49fa-8335-781f9dcae72c"
   },
   "outputs": [],
   "source": [
    "df.isnull().sum()"
   ]
  },
  {
   "cell_type": "markdown",
   "metadata": {
    "id": "d1UGvmT4qLyG"
   },
   "source": []
  },
  {
   "cell_type": "markdown",
   "metadata": {
    "id": "fgG0Mnydq2YW"
   },
   "source": [
    "Repitamos lo mismo para un pedazo del DataFrame y así poder \"ver\" qué pasa"
   ]
  },
  {
   "cell_type": "code",
   "execution_count": null,
   "metadata": {
    "colab": {
     "base_uri": "https://localhost:8080/",
     "height": 394
    },
    "id": "kjHME4kjp4Yn",
    "outputId": "c81cdfb9-17c9-4720-87b2-ac36efb77b4d"
   },
   "outputs": [],
   "source": [
    "df[[\"DEPARTAMEN\", \"WELL_DRILL\", \"FORMACION1\"]][df['DEPARTAMEN'] == 'META'].iloc[100:111]"
   ]
  },
  {
   "cell_type": "markdown",
   "metadata": {
    "id": "d9JgoNfJqLUx"
   },
   "source": []
  },
  {
   "cell_type": "code",
   "execution_count": null,
   "metadata": {
    "colab": {
     "base_uri": "https://localhost:8080/",
     "height": 394
    },
    "id": "Luk8Dipxp-t3",
    "outputId": "a2e1db9c-f658-4240-d1f4-3c631b70b415"
   },
   "outputs": [],
   "source": [
    "df[[\"DEPARTAMEN\", \"WELL_DRILL\", \"FORMACION1\"]][df['DEPARTAMEN'] == 'META'].iloc[100:111].isnull()"
   ]
  },
  {
   "cell_type": "code",
   "execution_count": null,
   "metadata": {
    "colab": {
     "base_uri": "https://localhost:8080/"
    },
    "id": "NUIJW_YJqsTf",
    "outputId": "50ee1f52-5eb8-4ff2-e2a1-cde1e5cec6f2"
   },
   "outputs": [],
   "source": [
    "df[[\"DEPARTAMEN\", \"WELL_DRILL\", \"FORMACION1\"]][df['DEPARTAMEN'] == 'META'].iloc[100:111].isnull().sum()"
   ]
  },
  {
   "cell_type": "markdown",
   "metadata": {
    "editable": true,
    "id": "ShHFoEUgszjY",
    "slideshow": {
     "slide_type": ""
    },
    "tags": []
   },
   "source": [
    "**Qué hacer cuando faltan datos??**"
   ]
  },
  {
   "cell_type": "markdown",
   "metadata": {
    "editable": true,
    "id": "nmyRoviDs9tX",
    "slideshow": {
     "slide_type": ""
    },
    "tags": []
   },
   "source": [
    "**Esa es la gran pregunta...**"
   ]
  },
  {
   "cell_type": "markdown",
   "metadata": {
    "editable": true,
    "id": "Q9VoL35LtEeh",
    "slideshow": {
     "slide_type": ""
    },
    "tags": []
   },
   "source": [
    "Opción 1: quitar las filas que tengan datos faltantes"
   ]
  },
  {
   "cell_type": "code",
   "execution_count": null,
   "metadata": {
    "colab": {
     "base_uri": "https://localhost:8080/",
     "height": 112
    },
    "id": "TxZbSlLmqxHA",
    "outputId": "3c3d5311-f0f7-4ef6-bdc1-633c41314317"
   },
   "outputs": [],
   "source": [
    "df[[\"DEPARTAMEN\", \"WELL_DRILL\", \"FORMACION1\"]][df['DEPARTAMEN'] == 'META'].iloc[100:111].dropna()"
   ]
  },
  {
   "cell_type": "markdown",
   "metadata": {
    "editable": true,
    "id": "fyZwBhDqtmhp",
    "slideshow": {
     "slide_type": ""
    },
    "tags": []
   },
   "source": [
    "Opción 2: quitar las columnas que tengan datos faltantes"
   ]
  },
  {
   "cell_type": "code",
   "execution_count": null,
   "metadata": {
    "colab": {
     "base_uri": "https://localhost:8080/",
     "height": 394
    },
    "id": "w_2qIT04tgbB",
    "outputId": "3c14e80d-dddb-426d-ac34-c8ff8e51311a"
   },
   "outputs": [],
   "source": [
    "df[[\"DEPARTAMEN\", \"WELL_DRILL\", \"FORMACION1\"]][df['DEPARTAMEN'] == 'META'].iloc[100:111].dropna(axis=1)"
   ]
  },
  {
   "cell_type": "markdown",
   "metadata": {
    "id": "Wd8QLPLAt05Y"
   },
   "source": [
    "Opción 3: remplazar datos faltantes"
   ]
  },
  {
   "cell_type": "code",
   "execution_count": null,
   "metadata": {
    "colab": {
     "base_uri": "https://localhost:8080/",
     "height": 394
    },
    "id": "fPaTQF8UtwNP",
    "outputId": "d08cdd32-1906-499d-d173-f619ab16ef87"
   },
   "outputs": [],
   "source": [
    "df[[\"FORMACION1\"]][df['DEPARTAMEN'] == 'META'].iloc[100:111].fillna(df[\"FORMACION1\"].iloc[444])"
   ]
  },
  {
   "cell_type": "code",
   "execution_count": null,
   "metadata": {
    "colab": {
     "base_uri": "https://localhost:8080/",
     "height": 394
    },
    "id": "iDoxHeGOuZBq",
    "outputId": "790052ee-0355-4672-a3e4-7d471a83e4e1"
   },
   "outputs": [],
   "source": [
    "df[[\"FORMACION1\"]][df['DEPARTAMEN'] == 'META'].iloc[100:111].fillna(\"no me importa\")"
   ]
  },
  {
   "cell_type": "markdown",
   "metadata": {
    "id": "omerDmxDxH4z"
   },
   "source": [
    "##**Agrupaciones"
   ]
  },
  {
   "cell_type": "code",
   "execution_count": null,
   "metadata": {
    "colab": {
     "base_uri": "https://localhost:8080/"
    },
    "id": "r83gnCtgvO3i",
    "outputId": "e87f8b40-d103-4d0f-8126-48c2e7d784fc"
   },
   "outputs": [],
   "source": [
    "df.groupby('DEPARTAMEN')[\"WELL_TVD\"].mean()"
   ]
  },
  {
   "cell_type": "code",
   "execution_count": null,
   "metadata": {
    "id": "vqwVZAeAvV8C"
   },
   "outputs": [],
   "source": [
    "#df.groupby('DEPARTAMEN')[\"WELL_TVD\"].max()"
   ]
  },
  {
   "cell_type": "code",
   "execution_count": null,
   "metadata": {
    "colab": {
     "base_uri": "https://localhost:8080/"
    },
    "id": "REc0K-5IwXqM",
    "outputId": "ac9bc034-a9e0-4c77-a803-b4e4eb0a1caf"
   },
   "outputs": [],
   "source": [
    "#df.groupby('DEPARTAMEN')[\"WELL_TVD\"].sum()\n",
    "df.keys()"
   ]
  },
  {
   "cell_type": "code",
   "execution_count": null,
   "metadata": {
    "colab": {
     "base_uri": "https://localhost:8080/"
    },
    "id": "kwSKDVtuxwNa",
    "outputId": "be2988c7-5aa4-4f68-ed4f-fee87b03b378"
   },
   "outputs": [],
   "source": [
    "df.groupby(['DEPARTAMEN', 'WELL_COUNT'])[\"WELL_TVD\"].mean()"
   ]
  },
  {
   "cell_type": "markdown",
   "metadata": {
    "id": "hvrS8Xol_OPX"
   },
   "source": [
    "## Aplicar una función a los datos de una columna"
   ]
  },
  {
   "cell_type": "markdown",
   "metadata": {
    "id": "niuqrgrVBLHW"
   },
   "source": [
    "### Ejemplo1"
   ]
  },
  {
   "cell_type": "code",
   "execution_count": null,
   "metadata": {
    "id": "IoK8rIoG-9_L"
   },
   "outputs": [],
   "source": [
    "df[\"WELL_TVD_+1000000\"] = df[\"WELL_TVD\"].apply(lambda x: x+1000000)"
   ]
  },
  {
   "cell_type": "code",
   "execution_count": null,
   "metadata": {
    "colab": {
     "base_uri": "https://localhost:8080/",
     "height": 424
    },
    "id": "LKhExhHQ-96T",
    "outputId": "d5875863-9c9e-406f-869b-ab04347f706b"
   },
   "outputs": [],
   "source": [
    "df[[\"WELL_TVD_+1000000\", \"WELL_TVD\" ]]"
   ]
  },
  {
   "cell_type": "markdown",
   "metadata": {
    "id": "LH8w2ydbBVAn"
   },
   "source": [
    "### Ejemplo 2 "
   ]
  },
  {
   "cell_type": "code",
   "execution_count": null,
   "metadata": {
    "id": "xL2KbG3--94J"
   },
   "outputs": [],
   "source": [
    "#defino una funcion, por ejemplo para corregir los errores en los nombre de los deptos:"
   ]
  },
  {
   "cell_type": "code",
   "execution_count": null,
   "metadata": {
    "colab": {
     "base_uri": "https://localhost:8080/"
    },
    "id": "bCnamvld-91z",
    "outputId": "1cb9f9fd-56aa-4e32-97f5-eb8500a95ca8"
   },
   "outputs": [],
   "source": [
    "#primero miro \n",
    "df.groupby('DEPARTAMEN')[\"WELL_TVD\"].count()"
   ]
  },
  {
   "cell_type": "code",
   "execution_count": null,
   "metadata": {
    "id": "kZkaeTQT-9yJ"
   },
   "outputs": [],
   "source": [
    "# defino la funcion para corregir los nombres:\n",
    "def corregir_nombres(w):\n",
    "  if(\"ASANAR\" in w):\n",
    "    return \"CASANARE\"\n",
    "  elif(\"NTICO\" in w and \"OFFSHORE\" not in w):\n",
    "    return \"ATLANTICO\"\n",
    "  if(\"BOL\" in w):\n",
    "    return \"BOLIVAR\"\n",
    "  if(\"BOYA\" in w):\n",
    "    return \"BOYACA\"\n",
    "  if(\"COR\" in w):\n",
    "    return \"CORDOBA\"\n",
    "  if(\"DOBA\" in w):\n",
    "    return \"CORDOBA\"\n",
    "  else:\n",
    "    return w\n"
   ]
  },
  {
   "cell_type": "markdown",
   "metadata": {
    "id": "YmVqyyqRI7OU"
   },
   "source": [
    "el error que sigue quedó de intento: la idea es que hay que saber también entender los errores"
   ]
  },
  {
   "cell_type": "code",
   "execution_count": null,
   "metadata": {
    "colab": {
     "base_uri": "https://localhost:8080/",
     "height": 312
    },
    "editable": true,
    "id": "EHmQ78za-9uS",
    "outputId": "b1f0a857-7625-4dc2-cc11-20cfb23d379b",
    "slideshow": {
     "slide_type": ""
    },
    "tags": []
   },
   "outputs": [],
   "source": [
    "df[\"DEPARTAMEN NOMBRE CORREGIDO\"] = df[\"DEPARTAMEN\"].apply(lambda x: corregir_nombres(str(x)))"
   ]
  },
  {
   "cell_type": "code",
   "execution_count": null,
   "metadata": {
    "id": "0hG6R302-9rn"
   },
   "outputs": [],
   "source": [
    "df[\"DEPARTAMEN\"]=df[\"DEPARTAMEN\"].astype(\"str\")"
   ]
  },
  {
   "cell_type": "code",
   "execution_count": null,
   "metadata": {
    "id": "WwolPHbj-9pc"
   },
   "outputs": [],
   "source": [
    "df[\"DEPARTAMEN NOMBRE CORREGIDO\"] = df[\"DEPARTAMEN\"].apply(lambda x: corregir_nombres(x))"
   ]
  },
  {
   "cell_type": "code",
   "execution_count": null,
   "metadata": {
    "colab": {
     "base_uri": "https://localhost:8080/"
    },
    "id": "Iw3Qyh6eGzI7",
    "outputId": "c75fd1ec-a477-46f0-8a3e-fece609d0372"
   },
   "outputs": [],
   "source": [
    "df.keys()"
   ]
  },
  {
   "cell_type": "code",
   "execution_count": null,
   "metadata": {
    "colab": {
     "base_uri": "https://localhost:8080/"
    },
    "id": "zMZo7QXD-9nF",
    "outputId": "6ce13db4-e2c4-4819-89cc-488526a4c7bd"
   },
   "outputs": [],
   "source": [
    "df.groupby(['DEPARTAMEN', \"DEPARTAMEN NOMBRE CORREGIDO\"])[\"WELL_TVD\"].count()"
   ]
  },
  {
   "cell_type": "markdown",
   "metadata": {
    "id": "5UccFzL9IaEg"
   },
   "source": [
    "Operaciones sobre cols"
   ]
  },
  {
   "cell_type": "code",
   "execution_count": null,
   "metadata": {
    "id": "AQy8Mi0f-9jZ"
   },
   "outputs": [],
   "source": [
    "df[\"suma\"] = df[\"WELL_TVD\"]+df[\"WELL_X_DEP\"]"
   ]
  },
  {
   "cell_type": "code",
   "execution_count": null,
   "metadata": {
    "colab": {
     "base_uri": "https://localhost:8080/",
     "height": 424
    },
    "id": "knCTisuI-9gH",
    "outputId": "07759979-dfed-43e8-d489-d5ef101a28f0"
   },
   "outputs": [],
   "source": [
    "df[[\"WELL_TVD\", \"WELL_X_DEP\", \"suma\"]]"
   ]
  },
  {
   "cell_type": "markdown",
   "metadata": {
    "id": "396KCnEGJOSw"
   },
   "source": [
    "## Otras cosas útiles"
   ]
  },
  {
   "cell_type": "markdown",
   "metadata": {
    "id": "WcL2USH0JU3N"
   },
   "source": [
    "### concatenar bases de datos"
   ]
  },
  {
   "cell_type": "markdown",
   "metadata": {
    "id": "lV5kd5_OJiz6"
   },
   "source": [
    "agregar filas (ojo: ambos DataFrames tienen que tener las mismas columnas!!)"
   ]
  },
  {
   "cell_type": "code",
   "execution_count": null,
   "metadata": {
    "id": "BFdFOGFU-9Y9"
   },
   "outputs": [],
   "source": [
    "first_5 = df.head()\n",
    "last_5 = df[178:]\n",
    "combined = pd.concat([first_5,last_5], axis = 0)"
   ]
  },
  {
   "cell_type": "markdown",
   "metadata": {
    "id": "wEZMBQWTJtWv"
   },
   "source": [
    "### agregar columnas"
   ]
  },
  {
   "cell_type": "code",
   "execution_count": null,
   "metadata": {
    "colab": {
     "base_uri": "https://localhost:8080/"
    },
    "id": "_5QdXpA6Kq46",
    "outputId": "d3c5364d-399d-44f8-df3d-b7bd5f7ef9d0"
   },
   "outputs": [],
   "source": [
    "df.keys()"
   ]
  },
  {
   "cell_type": "code",
   "execution_count": null,
   "metadata": {
    "id": "ISv3HYL_-9QI"
   },
   "outputs": [],
   "source": [
    "df2= df[[]]"
   ]
  },
  {
   "cell_type": "code",
   "execution_count": null,
   "metadata": {
    "editable": true,
    "id": "BQOpxFrX-9Cz",
    "slideshow": {
     "slide_type": ""
    },
    "tags": []
   },
   "outputs": [],
   "source": []
  }
 ],
 "metadata": {
  "colab": {
   "collapsed_sections": [],
   "provenance": []
  },
  "kernelspec": {
   "display_name": "Python 3 (ipykernel)",
   "language": "python",
   "name": "python3"
  },
  "language_info": {
   "codemirror_mode": {
    "name": "ipython",
    "version": 3
   },
   "file_extension": ".py",
   "mimetype": "text/x-python",
   "name": "python",
   "nbconvert_exporter": "python",
   "pygments_lexer": "ipython3",
   "version": "3.11.12"
  }
 },
 "nbformat": 4,
 "nbformat_minor": 4
}
